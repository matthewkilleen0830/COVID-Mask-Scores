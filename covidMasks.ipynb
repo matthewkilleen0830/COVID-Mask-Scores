{
 "cells": [
  {
   "cell_type": "code",
   "execution_count": null,
   "metadata": {
    "slideshow": {
     "slide_type": "-"
    }
   },
   "outputs": [],
   "source": [
    "# Import libraries and setup\n",
    "import os\n",
    "from pathlib import Path\n",
    "import pandas as pd\n",
    "import numpy as np\n",
    "import matplotlib.pyplot as plt\n",
    "import scipy.stats as st\n",
    "from scipy.stats import linregress\n",
    "import chardet\n",
    "import gmaps\n",
    "import warnings\n",
    "warnings.simplefilter(\"ignore\")\n",
    "\n",
    "# Import API key\n",
    "from api_keys import g_key"
   ]
  },
  {
   "cell_type": "code",
   "execution_count": null,
   "metadata": {
    "slideshow": {
     "slide_type": "-"
    }
   },
   "outputs": [],
   "source": [
    "# Access maps with unique API key\n",
    "gmaps.configure(api_key = g_key)"
   ]
  },
  {
   "cell_type": "markdown",
   "metadata": {
    "slideshow": {
     "slide_type": "-"
    }
   },
   "source": [
    "# Self-Reported Mask Wearing<br>and COVID-19 Cases and Deaths\n",
    "\n",
    "### as of July 14, 2020"
   ]
  },
  {
   "cell_type": "markdown",
   "metadata": {
    "slideshow": {
     "slide_type": "-"
    }
   },
   "source": [
    "### Core message of this project:\n",
    "We aim to determine the correlation between self-reported mask-wearing behavior per U.S. county and COVID-19 case and death rates per county as of July 14, 2020.\n",
    "\n",
    "### Alternate Hypothesis:\n",
    "COVID-19 case and death rates will be lower in counties with higher mask-wearing scores."
   ]
  },
  {
   "cell_type": "markdown",
   "metadata": {
    "slideshow": {
     "slide_type": "-"
    }
   },
   "source": [
    "# Extract\n",
    "\n",
    "### U.S. Census 2010-2019"
   ]
  },
  {
   "cell_type": "code",
   "execution_count": null,
   "metadata": {
    "slideshow": {
     "slide_type": "-"
    }
   },
   "outputs": [],
   "source": [
    "# U.S. Census 2010-2019\n",
    "censusDataReadMeURL = \"https://www.census.gov/data/tables/time-series/demo/popest/2010s-counties-total.html\"\n",
    "\n",
    "# This is where the census data .CSV lives locally:\n",
    "censusDataFilepath = \"Resources/co-est2019-alldata_exp.csv\"\n",
    "\n",
    "print(f\"{censusDataFilepath} is {round(os.path.getsize(censusDataFilepath)/1024/1024, 2)} megabytes (MB).\\nMore info here:\\n{censusDataReadMeURL}\")\n",
    "\n",
    "# Read CSV into censusData DataFrame\n",
    "censusData = pd.read_csv(censusDataFilepath, encoding = \"iso-8859-1\")"
   ]
  },
  {
   "cell_type": "markdown",
   "metadata": {
    "slideshow": {
     "slide_type": "-"
    }
   },
   "source": [
    "# Extract\n",
    "\n",
    "### U.S. COVID-19 Cases & Deaths"
   ]
  },
  {
   "cell_type": "code",
   "execution_count": null,
   "metadata": {
    "slideshow": {
     "slide_type": "-"
    }
   },
   "outputs": [],
   "source": [
    "# COVID-19 cases and deaths\n",
    "caseDataReadMeURL = \"https://github.com/nytimes/covid-19-data/blob/master/README.md\"\n",
    "\n",
    "# This is where the .CSV lives locally:\n",
    "caseDataFilepath = \"Resources/us-counties.csv\"\n",
    "\n",
    "print(f\"The file at {caseDataFilepath} is {round(os.path.getsize(caseDataFilepath)/1024/1024, 2)} MB.\\nMore info here:\\n{caseDataReadMeURL}\")\n",
    "\n",
    "# Read CSV into caseData DataFrame\n",
    "caseData = pd.read_csv(caseDataFilepath, encoding = \"UTF-8\")"
   ]
  },
  {
   "cell_type": "markdown",
   "metadata": {
    "slideshow": {
     "slide_type": "-"
    }
   },
   "source": [
    "# Extract\n",
    "\n",
    "### U.S. Landmass Data (by County)"
   ]
  },
  {
   "cell_type": "code",
   "execution_count": null,
   "metadata": {
    "slideshow": {
     "slide_type": "skip"
    }
   },
   "outputs": [],
   "source": [
    "# Landmass (and thence population density)\n",
    "landMassDataReadMeURL = \"https://hub.arcgis.com/datasets/48f9af87daa241c4b267c5931ad3b226_0/data?orderBy=FIPS\"\n",
    "\n",
    "# This is where the landmass data .CSV lives locally:\n",
    "landMassDataFilepath = \"Resources/counties-by-land-area.csv\"\n",
    "\n",
    "print(f\"{landMassDataFilepath} is {round(os.path.getsize(landMassDataFilepath)/1024/1024, 2)} MB.\\nMore info here:\\n{landMassDataReadMeURL}\")\n",
    "\n",
    "# Read CSV into landmassData DataFrame\n",
    "landmassData = pd.read_csv(landMassDataFilepath)"
   ]
  },
  {
   "cell_type": "markdown",
   "metadata": {
    "slideshow": {
     "slide_type": "-"
    }
   },
   "source": [
    "# Extract\n",
    "\n",
    "### U.S. County Geographic Centers"
   ]
  },
  {
   "cell_type": "code",
   "execution_count": null,
   "metadata": {
    "slideshow": {
     "slide_type": "-"
    }
   },
   "outputs": [],
   "source": [
    "# County Centers (by geographic center latitude and longitude)\n",
    "countyCenterDataReadMeURL = \"https://github.com/btskinner/spatial/blob/master/data/county_centers.csv\"\n",
    "\n",
    "# This is where the county center data .CSV lives locally:\n",
    "countyCenterDataFilepath = \"Resources/county_centers.csv\"\n",
    "\n",
    "print(f\"{countyCenterDataFilepath} is {round(os.path.getsize(countyCenterDataFilepath)/1024/1024, 2)} MB.\\nMore info here:\\n{countyCenterDataReadMeURL}\")\n",
    "\n",
    "# Read CSV into countyCenterData DataFrame\n",
    "countyCenterData = pd.read_csv(countyCenterDataFilepath)"
   ]
  },
  {
   "cell_type": "markdown",
   "metadata": {
    "slideshow": {
     "slide_type": "-"
    }
   },
   "source": [
    "# Extract\n",
    "\n",
    "### U.S. Mask-Wearing Survey (by County)"
   ]
  },
  {
   "cell_type": "code",
   "execution_count": null,
   "metadata": {
    "slideshow": {
     "slide_type": "-"
    }
   },
   "outputs": [],
   "source": [
    "# Mask-Wearing survey\n",
    "maskWearingDataReadMeURL = \"https://github.com/nytimes/covid-19-data/tree/master/mask-use\"\n",
    "\n",
    "# This is where the census data .CSV lives locally:\n",
    "maskWearingDataFilepath = \"Resources/mask-use-by-county-exp.csv\"\n",
    "\n",
    "print(f\"{maskWearingDataFilepath} is {round(os.path.getsize(maskWearingDataFilepath)/1024/1024, 2)} MB.\\nMore info here:\\n{maskWearingDataReadMeURL}\")\n",
    "\n",
    "# Read CSV into maskWearingData DataFrame\n",
    "maskWearingData = pd.read_csv(maskWearingDataFilepath)"
   ]
  },
  {
   "cell_type": "markdown",
   "metadata": {
    "slideshow": {
     "slide_type": "-"
    }
   },
   "source": [
    "# Transform\n",
    "\n",
    "### U.S. COVID-19 Cases & Deaths"
   ]
  },
  {
   "cell_type": "code",
   "execution_count": null,
   "metadata": {
    "slideshow": {
     "slide_type": "-"
    }
   },
   "outputs": [],
   "source": [
    "# Filter DataFrame to include only data taken thru July 14, 2020\n",
    "caseData = caseData[caseData[\"date\"].str.contains(\"7/14/2020\")]\n",
    "\n",
    "# Reset index in place\n",
    "caseData.reset_index(inplace = True, drop = True)\n",
    "caseData"
   ]
  },
  {
   "cell_type": "code",
   "execution_count": null,
   "metadata": {
    "slideshow": {
     "slide_type": "-"
    }
   },
   "outputs": [],
   "source": [
    "# Drop rows containing NaN values (caseData's \"unknown\" counties)\n",
    "# Joplin, MO and Kansas City, MO case numbers added to Jasper and Jackson Counties respectively\n",
    "caseData.dropna(axis = 0, how = \"any\", thresh = None, subset = None, inplace = True)\n",
    "caseData"
   ]
  },
  {
   "cell_type": "code",
   "execution_count": null,
   "metadata": {
    "slideshow": {
     "slide_type": "-"
    }
   },
   "outputs": [],
   "source": [
    "# Convert caseData FIPS values from float to int\n",
    "caseData.fips = caseData.fips.astype(np.int64)\n",
    "caseData.dtypes"
   ]
  },
  {
   "cell_type": "code",
   "execution_count": null,
   "metadata": {
    "slideshow": {
     "slide_type": "-"
    }
   },
   "outputs": [],
   "source": [
    "# Display cleaned DataFrame\n",
    "caseData"
   ]
  },
  {
   "cell_type": "markdown",
   "metadata": {
    "slideshow": {
     "slide_type": "-"
    }
   },
   "source": [
    "# Transform\n",
    "\n",
    "### Merge with censusData DataFrame"
   ]
  },
  {
   "cell_type": "code",
   "execution_count": null,
   "metadata": {
    "slideshow": {
     "slide_type": "-"
    }
   },
   "outputs": [],
   "source": [
    "# Merge caseData and censusData DataFrames on common identifier\n",
    "DataFrame = pd.merge(censusData, caseData, how = \"outer\", left_on = \"FIPS\", right_on = \"fips\", on = None, sort = False, copy = True, indicator = False, validate = None)\n",
    "DataFrame"
   ]
  },
  {
   "cell_type": "code",
   "execution_count": null,
   "metadata": {
    "slideshow": {
     "slide_type": "-"
    }
   },
   "outputs": [],
   "source": [
    "# Manually add population to row 3142 (New York City aggregate)\n",
    "DataFrame[\"POPESTIMATE2019\"][3142] = 8336817\n",
    "DataFrame.tail()"
   ]
  },
  {
   "cell_type": "code",
   "execution_count": null,
   "metadata": {
    "slideshow": {
     "slide_type": "-"
    }
   },
   "outputs": [],
   "source": [
    "# Drop duplicate and/or irrelevant columns\n",
    "DataFrame.drop(columns = [\"FIPS\", \"STATE\", \"COUNTY\", \"STNAME\", \"CTYNAME\", \"CENSUS2010POP\"], inplace = True)\n",
    "DataFrame"
   ]
  },
  {
   "cell_type": "code",
   "execution_count": null,
   "metadata": {
    "slideshow": {
     "slide_type": "-"
    }
   },
   "outputs": [],
   "source": [
    "# Rename columns\n",
    "DataFrame = DataFrame.rename(columns = {\"date\":\"Date\", \"fips\":\"FIPS\", \"county\":\"County\", \"state\":\"State\",\n",
    "                                        \"POPESTIMATE2019\":\"PopEst\", \"cases\":\"Cases\", \"deaths\":\"Deaths\"})\n",
    "DataFrame"
   ]
  },
  {
   "cell_type": "code",
   "execution_count": null,
   "metadata": {
    "slideshow": {
     "slide_type": "-"
    }
   },
   "outputs": [],
   "source": [
    "# Rearrange columns\n",
    "DataFrame = DataFrame[[\"Date\", \"FIPS\", \"County\", \"State\", \"PopEst\", \"Cases\", \"Deaths\"]]\n",
    "DataFrame"
   ]
  },
  {
   "cell_type": "code",
   "execution_count": null,
   "metadata": {
    "slideshow": {
     "slide_type": "-"
    }
   },
   "outputs": [],
   "source": [
    "# Due diligence to check DataFrame for rows with missing data\n",
    "DataFrame.count()"
   ]
  },
  {
   "cell_type": "code",
   "execution_count": null,
   "metadata": {
    "slideshow": {
     "slide_type": "-"
    }
   },
   "outputs": [],
   "source": [
    "# Drop rows containing no data\n",
    "DataFrame.dropna(axis = 0, how = \"any\", thresh = None, subset = None, inplace = True)\n",
    "\n",
    "# Reset index in place\n",
    "DataFrame.reset_index(inplace = True, drop = True)\n",
    "DataFrame"
   ]
  },
  {
   "cell_type": "code",
   "execution_count": null,
   "metadata": {
    "slideshow": {
     "slide_type": "-"
    }
   },
   "outputs": [],
   "source": [
    "# Data types\n",
    "DataFrame.dtypes"
   ]
  },
  {
   "cell_type": "code",
   "execution_count": null,
   "metadata": {
    "slideshow": {
     "slide_type": "-"
    }
   },
   "outputs": [],
   "source": [
    "# Convert FIPS values from float to integer\n",
    "DataFrame.FIPS = DataFrame.FIPS.astype(np.int64)\n",
    "DataFrame.dtypes"
   ]
  },
  {
   "cell_type": "code",
   "execution_count": null,
   "metadata": {
    "slideshow": {
     "slide_type": "-"
    }
   },
   "outputs": [],
   "source": [
    "# Display updated DataFrame with new PopEst column\n",
    "DataFrame"
   ]
  },
  {
   "cell_type": "markdown",
   "metadata": {
    "slideshow": {
     "slide_type": "-"
    }
   },
   "source": [
    "# Transform\n",
    "\n",
    "### U.S. Landmass Data (by County)"
   ]
  },
  {
   "cell_type": "code",
   "execution_count": null,
   "metadata": {
    "slideshow": {
     "slide_type": "-"
    }
   },
   "outputs": [],
   "source": [
    "# Create DataFrame to sort landmassData by FIPS code\n",
    "a = landmassData[[\"FIPS\", \"FID\", \"NAME\", \"STATE_NAME\", \"STATE_NAME\", \"POPULATION\", \"SQMI\"]]\n",
    "a = a.sort_values(by = \"FIPS\").reset_index().drop(columns = [\"index\"])\n",
    "a"
   ]
  },
  {
   "cell_type": "code",
   "execution_count": null,
   "metadata": {
    "slideshow": {
     "slide_type": "-"
    }
   },
   "outputs": [],
   "source": [
    "# Create new DataFrame to sort primary DataFrame by FIPS code\n",
    "b = DataFrame[[\"Date\", \"FIPS\", \"County\", \"State\", \"Cases\", \"Deaths\"]]\n",
    "b = b.sort_values(by = \"FIPS\").reset_index().drop(columns = [\"index\"])\n",
    "b"
   ]
  },
  {
   "cell_type": "code",
   "execution_count": null,
   "metadata": {
    "slideshow": {
     "slide_type": "-"
    }
   },
   "outputs": [],
   "source": [
    "# Convert FIPS values to integer and verify data types\n",
    "b[\"FIPS\"] = b[\"FIPS\"].astype(int)\n",
    "b.dtypes"
   ]
  },
  {
   "cell_type": "code",
   "execution_count": null,
   "metadata": {
    "slideshow": {
     "slide_type": "-"
    }
   },
   "outputs": [],
   "source": [
    "# Verify landmassData data types\n",
    "a.dtypes"
   ]
  },
  {
   "cell_type": "code",
   "execution_count": null,
   "metadata": {
    "slideshow": {
     "slide_type": "-"
    }
   },
   "outputs": [],
   "source": [
    "# Verify last row's index number\n",
    "b.tail()"
   ]
  },
  {
   "cell_type": "code",
   "execution_count": null,
   "metadata": {
    "slideshow": {
     "slide_type": "-"
    }
   },
   "outputs": [],
   "source": [
    "# Calculate difference in rows between primary DataFrame and landmassData DataFrames to identify Puerto Rico and\n",
    "# other \"non-U.S. counties\" we do not have cases and deaths data for\n",
    "len(a) - len(b)"
   ]
  },
  {
   "cell_type": "code",
   "execution_count": null,
   "metadata": {
    "slideshow": {
     "slide_type": "-"
    }
   },
   "outputs": [],
   "source": [
    "# Identify rows with duplicates value in County column\n",
    "duplicates_df = b[b.duplicated(\"County\")]\n",
    "duplicates_df"
   ]
  },
  {
   "cell_type": "code",
   "execution_count": null,
   "metadata": {
    "slideshow": {
     "slide_type": "-"
    }
   },
   "outputs": [],
   "source": [
    "# Create DataFrame to hold duplicate county's cases and deaths data\n",
    "c = b[b[\"FIPS\"] == 2016]\n",
    "c"
   ]
  },
  {
   "cell_type": "code",
   "execution_count": null,
   "metadata": {
    "slideshow": {
     "slide_type": "-"
    }
   },
   "outputs": [],
   "source": [
    "# Create DataFrame to hold duplicate county's census data\n",
    "d = a[a[\"FIPS\"] == 2016]\n",
    "d"
   ]
  },
  {
   "cell_type": "code",
   "execution_count": null,
   "metadata": {
    "slideshow": {
     "slide_type": "-"
    }
   },
   "outputs": [],
   "source": [
    "# Merge primary DataFrame with duplicate county's DataFrame to create one entry for duplicate county\n",
    "DataFrame = b.merge(a, how = \"left\", on = \"FIPS\")\n",
    "DataFrame.isnull().sum()"
   ]
  },
  {
   "cell_type": "code",
   "execution_count": null,
   "metadata": {
    "slideshow": {
     "slide_type": "-"
    }
   },
   "outputs": [],
   "source": [
    "# Verify merge was successful\n",
    "check = DataFrame[DataFrame[\"FIPS\"] == 2016]\n",
    "check"
   ]
  },
  {
   "cell_type": "code",
   "execution_count": null,
   "metadata": {
    "slideshow": {
     "slide_type": "-"
    }
   },
   "outputs": [],
   "source": [
    "# View DataFrame to verify we have 3085 rows (including New York City aggregate)\n",
    "DataFrame"
   ]
  },
  {
   "cell_type": "code",
   "execution_count": null,
   "metadata": {
    "slideshow": {
     "slide_type": "-"
    }
   },
   "outputs": [],
   "source": [
    "# Drop duplicate and/or irrelevant columns\n",
    "DataFrame.drop(columns = [\"FID\", \"NAME\", \"STATE_NAME\", \"STATE_NAME\"], inplace = True)\n",
    "DataFrame"
   ]
  },
  {
   "cell_type": "code",
   "execution_count": null,
   "metadata": {
    "slideshow": {
     "slide_type": "-"
    }
   },
   "outputs": [],
   "source": [
    "# Sort DataFrame by FIPS code\n",
    "DataFrame.sort_values(by = [\"FIPS\"], ascending = True, inplace = True)\n",
    "DataFrame"
   ]
  },
  {
   "cell_type": "code",
   "execution_count": null,
   "metadata": {
    "slideshow": {
     "slide_type": "-"
    }
   },
   "outputs": [],
   "source": [
    "# Data types\n",
    "DataFrame.dtypes"
   ]
  },
  {
   "cell_type": "code",
   "execution_count": null,
   "metadata": {
    "slideshow": {
     "slide_type": "-"
    }
   },
   "outputs": [],
   "source": [
    "# Manually add population and landmass data to row 3085 (New York City aggregate) and verify\n",
    "DataFrame[\"POPULATION\"][3084] = 8336817\n",
    "DataFrame[\"SQMI\"][3084] = 302.06\n",
    "DataFrame.tail()"
   ]
  },
  {
   "cell_type": "code",
   "execution_count": null,
   "metadata": {
    "slideshow": {
     "slide_type": "-"
    }
   },
   "outputs": [],
   "source": [
    "# Rename column\n",
    "DataFrame = DataFrame.rename(columns = {\"POPULATION\":\"PopEst\"})\n",
    "DataFrame"
   ]
  },
  {
   "cell_type": "code",
   "execution_count": null,
   "metadata": {
    "slideshow": {
     "slide_type": "-"
    }
   },
   "outputs": [],
   "source": [
    "# Create per 100,000 people divisor\n",
    "perHundredK_divisor = DataFrame[\"PopEst\"] / 100000\n",
    "\n",
    "# Calculate cases per 100,000\n",
    "casesPerHundredK = DataFrame[\"Cases\"] / perHundredK_divisor\n",
    "\n",
    "# Calculate deaths per 100,000\n",
    "deathsPerHundredK = DataFrame[\"Deaths\"] / perHundredK_divisor\n",
    "\n",
    "# Calculate population density\n",
    "popDens = DataFrame[\"PopEst\"] / DataFrame[\"SQMI\"]"
   ]
  },
  {
   "cell_type": "code",
   "execution_count": null,
   "metadata": {
    "slideshow": {
     "slide_type": "-"
    }
   },
   "outputs": [],
   "source": [
    "# Add new columns to hold case rates and death rates (per 100,000 people), and population density\n",
    "DataFrame[\"CaseRate\"] = casesPerHundredK\n",
    "DataFrame[\"DeathRate\"] = deathsPerHundredK\n",
    "DataFrame[\"PopDens\"] = popDens\n",
    "DataFrame"
   ]
  },
  {
   "cell_type": "code",
   "execution_count": null,
   "metadata": {
    "slideshow": {
     "slide_type": "-"
    }
   },
   "outputs": [],
   "source": [
    "# Reorganize columns\n",
    "DataFrame = DataFrame[[\"Date\", \"FIPS\", \"County\", \"State\", \"SQMI\", \"PopEst\", \"PopDens\", \"Cases\", \"CaseRate\", \"Deaths\", \"DeathRate\"]]\n",
    "DataFrame"
   ]
  },
  {
   "cell_type": "code",
   "execution_count": null,
   "metadata": {
    "slideshow": {
     "slide_type": "-"
    }
   },
   "outputs": [],
   "source": [
    "# Convert FIPS and Population values from float to int\n",
    "DataFrame.FIPS = DataFrame.FIPS.astype(np.int64)\n",
    "DataFrame.PopEst = DataFrame.PopEst.astype(np.int64)\n",
    "DataFrame.dtypes"
   ]
  },
  {
   "cell_type": "code",
   "execution_count": null,
   "metadata": {
    "slideshow": {
     "slide_type": "-"
    }
   },
   "outputs": [],
   "source": [
    "# Sort on FIPS to restore DataFrame order\n",
    "DataFrame = DataFrame.sort_values(\"FIPS\", ascending = True)\n",
    "DataFrame"
   ]
  },
  {
   "cell_type": "markdown",
   "metadata": {
    "slideshow": {
     "slide_type": "-"
    }
   },
   "source": [
    "# Transform\n",
    "\n",
    "### Merge with countyCenterData DataFrame"
   ]
  },
  {
   "cell_type": "code",
   "execution_count": null,
   "metadata": {
    "slideshow": {
     "slide_type": "-"
    }
   },
   "outputs": [],
   "source": [
    "# Merge primary DataFrame with countyCenterData to import lat/lng for heatmaps\n",
    "DataFrame = DataFrame.merge(countyCenterData, how = \"left\", left_on = \"FIPS\", right_on = \"fips\", on = None, sort = False, copy = True, indicator = False, validate = None)\n",
    "DataFrame"
   ]
  },
  {
   "cell_type": "code",
   "execution_count": null,
   "metadata": {
    "slideshow": {
     "slide_type": "-"
    }
   },
   "outputs": [],
   "source": [
    "# Drop duplicate and/or irrelevant columns\n",
    "DataFrame.drop(columns = [\"fips\", \"clon00\", \"clat00\", \"pclon00\", \"pclat00\", \"pclon10\", \"pclat10\"], inplace = True)\n",
    "DataFrame"
   ]
  },
  {
   "cell_type": "code",
   "execution_count": null,
   "metadata": {
    "slideshow": {
     "slide_type": "-"
    }
   },
   "outputs": [],
   "source": [
    "# Rename columns\n",
    "DataFrame = DataFrame.rename(columns = {\"clon10\":\"Lng\", \"clat10\":\"Lat\"})\n",
    "DataFrame"
   ]
  },
  {
   "cell_type": "code",
   "execution_count": null,
   "metadata": {
    "slideshow": {
     "slide_type": "-"
    }
   },
   "outputs": [],
   "source": [
    "# Rearrange columns\n",
    "DataFrame = DataFrame[[\"Date\", \"FIPS\", \"County\", \"State\", \"SQMI\", \"PopEst\", \"PopDens\", \"Cases\", \"CaseRate\", \"Deaths\",\n",
    "                       \"DeathRate\", \"Lat\", \"Lng\"]]\n",
    "DataFrame"
   ]
  },
  {
   "cell_type": "code",
   "execution_count": null,
   "metadata": {
    "slideshow": {
     "slide_type": "-"
    }
   },
   "outputs": [],
   "source": [
    "# Due diligence to check for missing data\n",
    "DataFrame.count()"
   ]
  },
  {
   "cell_type": "code",
   "execution_count": null,
   "metadata": {
    "slideshow": {
     "slide_type": "-"
    }
   },
   "outputs": [],
   "source": [
    "# Create DataFrame to look for rows with missing lat/lng values\n",
    "null_df = DataFrame[DataFrame.isnull().any(axis = 1)]\n",
    "null_df"
   ]
  },
  {
   "cell_type": "code",
   "execution_count": null,
   "metadata": {
    "slideshow": {
     "slide_type": "-"
    }
   },
   "outputs": [],
   "source": [
    "# Manually add missing latitude and longitude coordinates:\n",
    "\n",
    "# Kusilvak Census Area (Alaska)\n",
    "DataFrame[\"Lat\"][80] = 62.0900\n",
    "DataFrame[\"Lng\"][80] = -163.5300\n",
    "\n",
    "# Oglala Lakota Census Area (South Dakota)\n",
    "DataFrame[\"Lat\"][2363] = 43.3300\n",
    "DataFrame[\"Lng\"][2363] = -102.5500\n",
    "\n",
    "# New York City Aggregate (New York)\n",
    "DataFrame[\"Lat\"][3084] = 40.7420\n",
    "DataFrame[\"Lng\"][3084] = -73.9073\n",
    "\n",
    "DataFrame.tail()"
   ]
  },
  {
   "cell_type": "markdown",
   "metadata": {
    "slideshow": {
     "slide_type": "-"
    }
   },
   "source": [
    "# Transform\n",
    "\n",
    "### Merge with maskWearingData DataFrame"
   ]
  },
  {
   "cell_type": "code",
   "execution_count": null,
   "metadata": {
    "slideshow": {
     "slide_type": "-"
    }
   },
   "outputs": [],
   "source": [
    "# Define intervals to create \"mask-wearing scores\" on a scale from 0 to 10\n",
    "scale = 10\n",
    "divisions = 5\n",
    "interval = scale / (divisions - 1)\n",
    "print(f\"This will use the results of the NYT survey to score each county on a scale from 0 to {scale} where:\")\n",
    "print(f\"Never = 0\")\n",
    "print(f\"Rarely = {interval}\")\n",
    "print(f\"Sometimes = {interval * 2}\")\n",
    "print(f\"Frequently = {interval * 3}\")\n",
    "print(f\"Always = {interval * 4}\")"
   ]
  },
  {
   "cell_type": "code",
   "execution_count": null,
   "metadata": {
    "slideshow": {
     "slide_type": "-"
    }
   },
   "outputs": [],
   "source": [
    "# Total number of counties \n",
    "counties = maskWearingData[\"COUNTYFP\"].nunique()\n",
    "totalCounties = pd.DataFrame([counties], columns = [\"Total Counties\"])\n",
    "totalCounties"
   ]
  },
  {
   "cell_type": "code",
   "execution_count": null,
   "metadata": {
    "slideshow": {
     "slide_type": "-"
    }
   },
   "outputs": [],
   "source": [
    "# Define function to convert percentage values to float\n",
    "def percentages_to_floats(percentage):\n",
    "    string = percentage[0:-1]\n",
    "    return float(string) "
   ]
  },
  {
   "cell_type": "code",
   "execution_count": null,
   "metadata": {
    "slideshow": {
     "slide_type": "-"
    }
   },
   "outputs": [],
   "source": [
    "# Average Never - Mask \n",
    "neverMask = maskWearingData[\"NEVER\"].apply(percentages_to_floats).mean()\n",
    "neverMask"
   ]
  },
  {
   "cell_type": "code",
   "execution_count": null,
   "metadata": {
    "slideshow": {
     "slide_type": "-"
    }
   },
   "outputs": [],
   "source": [
    "# Average Rarely - Mask \n",
    "rarelyMask = maskWearingData[\"RARELY\"].apply(percentages_to_floats).mean()\n",
    "rarelyMask"
   ]
  },
  {
   "cell_type": "code",
   "execution_count": null,
   "metadata": {
    "slideshow": {
     "slide_type": "-"
    }
   },
   "outputs": [],
   "source": [
    "# Average Sometimes - Mask \n",
    "sometimesMask = maskWearingData[\"SOMETIMES\"].apply(percentages_to_floats).mean()\n",
    "sometimesMask"
   ]
  },
  {
   "cell_type": "code",
   "execution_count": null,
   "metadata": {
    "slideshow": {
     "slide_type": "-"
    }
   },
   "outputs": [],
   "source": [
    "# Average Frequently - Mask \n",
    "frequentlyMask = maskWearingData[\"FREQUENTLY\"].apply(percentages_to_floats).mean()\n",
    "frequentlyMask"
   ]
  },
  {
   "cell_type": "code",
   "execution_count": null,
   "metadata": {
    "slideshow": {
     "slide_type": "-"
    }
   },
   "outputs": [],
   "source": [
    "# Average Always - Mask \n",
    "alwaysMask = maskWearingData[\"ALWAYS\"].apply(percentages_to_floats).mean()\n",
    "alwaysMask"
   ]
  },
  {
   "cell_type": "code",
   "execution_count": null,
   "metadata": {
    "slideshow": {
     "slide_type": "-"
    }
   },
   "outputs": [],
   "source": [
    "# Create DataFrame of mask wearing mean percentages\n",
    "maskUsage = pd.DataFrame({\"NEVER\": [neverMask], \"RARELY\": [rarelyMask], \"SOMETIMES\": [sometimesMask],\n",
    "                          \"FREQUENTLY\": [frequentlyMask], \"ALWAYS\": [alwaysMask]})\n",
    "maskUsage"
   ]
  },
  {
   "cell_type": "code",
   "execution_count": null,
   "metadata": {
    "slideshow": {
     "slide_type": "-"
    }
   },
   "outputs": [],
   "source": [
    "# Format DataFrame floats to percentages\n",
    "pd.options.display.float_format = '{:,.2f}%'.format\n",
    "maskUsage"
   ]
  },
  {
   "cell_type": "code",
   "execution_count": null,
   "metadata": {
    "slideshow": {
     "slide_type": "-"
    }
   },
   "outputs": [],
   "source": [
    "# Update DataFrame with Mask Score column \n",
    "maskWearingData[\"Mask Score\"] = maskWearingData[\"NEVER\"].apply(percentages_to_floats) * 0 + maskWearingData[\"RARELY\"].apply(percentages_to_floats) * 2.5 + maskWearingData[\"SOMETIMES\"].apply(percentages_to_floats) * 5.0 + maskWearingData[\"FREQUENTLY\"].apply(percentages_to_floats) *7.5 + maskWearingData[\"ALWAYS\"].apply(percentages_to_floats) *10 \n",
    "maskWearingData"
   ]
  },
  {
   "cell_type": "code",
   "execution_count": null,
   "metadata": {
    "slideshow": {
     "slide_type": "-"
    }
   },
   "outputs": [],
   "source": [
    "# Merge with primary DataFrame to import county mask-wearing averages\n",
    "DataFrame = DataFrame.merge(maskWearingData, how = \"left\", left_on = \"FIPS\", right_on = \"COUNTYFP\", on = None, sort = False, copy = True, indicator = False, validate = None)\n",
    "DataFrame"
   ]
  },
  {
   "cell_type": "code",
   "execution_count": null,
   "metadata": {
    "slideshow": {
     "slide_type": "-"
    }
   },
   "outputs": [],
   "source": [
    "# Drop duplicate and/or irrelevant columns\n",
    "DataFrame.drop(columns = [\"COUNTYFP\", \"NEVER\", \"RARELY\", \"SOMETIMES\", \"FREQUENTLY\", \"ALWAYS\"], inplace = True)\n",
    "DataFrame"
   ]
  },
  {
   "cell_type": "code",
   "execution_count": null,
   "metadata": {
    "slideshow": {
     "slide_type": "-"
    }
   },
   "outputs": [],
   "source": [
    "# Data types\n",
    "DataFrame.dtypes"
   ]
  },
  {
   "cell_type": "code",
   "execution_count": null,
   "metadata": {
    "slideshow": {
     "slide_type": "-"
    }
   },
   "outputs": [],
   "source": [
    "# Manually add mask score to row 3084 (New York City aggregate) and verify\n",
    "DataFrame[\"Mask Score\"][3084] = 890.85\n",
    "DataFrame.tail()"
   ]
  },
  {
   "cell_type": "code",
   "execution_count": null,
   "metadata": {
    "slideshow": {
     "slide_type": "-"
    }
   },
   "outputs": [],
   "source": [
    "# Convert cases and deaths values to integers and verify data types\n",
    "DataFrame[\"Cases\"] = DataFrame[\"Cases\"].astype(int)\n",
    "DataFrame[\"Deaths\"] = DataFrame[\"Deaths\"].astype(int)\n",
    "DataFrame"
   ]
  },
  {
   "cell_type": "code",
   "execution_count": null,
   "metadata": {
    "slideshow": {
     "slide_type": "-"
    }
   },
   "outputs": [],
   "source": [
    "# Data types\n",
    "DataFrame.dtypes"
   ]
  },
  {
   "cell_type": "code",
   "execution_count": null,
   "metadata": {
    "slideshow": {
     "slide_type": "-"
    }
   },
   "outputs": [],
   "source": [
    "# Group by State and calculate mean\n",
    "grouped_df = DataFrame.groupby(\"State\")\n",
    "mean_df = grouped_df.mean()\n",
    "mean_df = mean_df.reset_index()\n",
    "mean_df"
   ]
  },
  {
   "cell_type": "code",
   "execution_count": null,
   "metadata": {
    "slideshow": {
     "slide_type": "-"
    }
   },
   "outputs": [],
   "source": [
    "# Create new DataFrame with only desired columns\n",
    "stateAVG = mean_df[[\"State\", \"Mask Score\"]].copy()\n",
    "stateAVG.head()"
   ]
  },
  {
   "cell_type": "code",
   "execution_count": null,
   "metadata": {
    "slideshow": {
     "slide_type": "-"
    }
   },
   "outputs": [],
   "source": [
    "# Merge primary DataFrame with state averages DataFrame to import calculated mean by state\n",
    "DataFrame = DataFrame.merge(stateAVG, how = \"left\", left_on = \"State\", right_on = \"State\", on = None, sort = False, copy = True, indicator = False, validate = None)\n",
    "DataFrame"
   ]
  },
  {
   "cell_type": "code",
   "execution_count": null,
   "metadata": {
    "slideshow": {
     "slide_type": "-"
    }
   },
   "outputs": [],
   "source": [
    "# Rename columns\n",
    "DataFrame = DataFrame.rename(columns = {\"Mask Score_x\":\"CountyScore\", \"Mask Score_y\":\"StateScore\"})\n",
    "DataFrame"
   ]
  },
  {
   "cell_type": "code",
   "execution_count": null,
   "metadata": {
    "slideshow": {
     "slide_type": "-"
    }
   },
   "outputs": [],
   "source": [
    "# Sort by FIPS\n",
    "DataFrame = DataFrame.sort_values(\"FIPS\", ascending = True)\n",
    "\n",
    "# Reset index in place\n",
    "DataFrame.reset_index(inplace = True, drop = True)\n",
    "DataFrame"
   ]
  },
  {
   "cell_type": "code",
   "execution_count": null,
   "metadata": {
    "slideshow": {
     "slide_type": "-"
    }
   },
   "outputs": [],
   "source": [
    "# Format values for consistency\n",
    "DataFrame[\"CountyScore\"] = DataFrame[\"CountyScore\"] / 100\n",
    "DataFrame[\"StateScore\"] = DataFrame[\"StateScore\"] / 100\n",
    "DataFrame"
   ]
  },
  {
   "cell_type": "code",
   "execution_count": null,
   "metadata": {
    "slideshow": {
     "slide_type": "-"
    }
   },
   "outputs": [],
   "source": [
    "# Data types\n",
    "DataFrame.dtypes"
   ]
  },
  {
   "cell_type": "markdown",
   "metadata": {
    "slideshow": {
     "slide_type": "-"
    }
   },
   "source": [
    "# Visualizations\n",
    "\n",
    "### U.S. COVID-19 Case Rates per 100,000 People as of July 14, 2020"
   ]
  },
  {
   "cell_type": "code",
   "execution_count": null,
   "metadata": {
    "slideshow": {
     "slide_type": "-"
    }
   },
   "outputs": [],
   "source": [
    "# Sort on CaseRate to find lowest case rates per 100,000 people\n",
    "DataFrame = DataFrame.sort_values(\"CaseRate\", ascending = True)"
   ]
  },
  {
   "cell_type": "code",
   "execution_count": null,
   "metadata": {
    "slideshow": {
     "slide_type": "-"
    }
   },
   "outputs": [],
   "source": [
    "# Display top 5 counties with lowest case rates per 100,000 people\n",
    "DataFrame.head()"
   ]
  },
  {
   "cell_type": "code",
   "execution_count": null,
   "metadata": {
    "slideshow": {
     "slide_type": "-"
    }
   },
   "outputs": [],
   "source": [
    "# Display top 5 counties with highest case rates per 100,000 people\n",
    "DataFrame.tail()"
   ]
  },
  {
   "cell_type": "code",
   "execution_count": null,
   "metadata": {
    "slideshow": {
     "slide_type": "-"
    }
   },
   "outputs": [],
   "source": [
    "# Sort on FIPS to restore order\n",
    "DataFrame = DataFrame.sort_values(\"FIPS\", ascending = True)\n",
    "DataFrame"
   ]
  },
  {
   "cell_type": "code",
   "execution_count": null,
   "metadata": {
    "slideshow": {
     "slide_type": "-"
    }
   },
   "outputs": [],
   "source": [
    "# Create heatmap for CaseRate\n",
    "\n",
    "# Store latitude and longitude in locations\n",
    "locations = DataFrame[[\"Lat\", \"Lng\"]]\n",
    "\n",
    "# Convert case rates to float\n",
    "caseRate = DataFrame[\"CaseRate\"].astype(float)\n",
    "\n",
    "# Plot Heatmap (U.S. geographic center is 39.8333, -98.5855)\n",
    "fig = gmaps.figure(zoom_level = 4.1, center = (37.8, -98.6), map_type = \"ROADMAP\")\n",
    "\n",
    "# Set max intensity to highest case rate found in the dataset\n",
    "max_intensity = DataFrame[\"CaseRate\"].max()\n",
    "\n",
    "# Create heat layer\n",
    "heat_layer = gmaps.heatmap_layer(locations, weights = caseRate, \n",
    "                                 dissipating = False, max_intensity = max_intensity,\n",
    "                                 point_radius = 0.8, gradient = [\"white\", \"lime\", \"green\", \"yellow\", \"red\", \"purple\"])\n",
    "\n",
    "\n",
    "\n",
    "# Add layer\n",
    "fig.add_layer(heat_layer)\n",
    "\n",
    "# Display figure\n",
    "fig"
   ]
  },
  {
   "cell_type": "markdown",
   "metadata": {
    "slideshow": {
     "slide_type": "-"
    }
   },
   "source": [
    "### Case Rate per 100,000 People vs. Population Density (by County) as of July 14, 2020"
   ]
  },
  {
   "cell_type": "code",
   "execution_count": null,
   "metadata": {
    "slideshow": {
     "slide_type": "-"
    }
   },
   "outputs": [],
   "source": [
    "# Do areas of higher population density have higher case rates?\n",
    "\n",
    "# Retrieve case rate and population density data\n",
    "countyCaseRate = DataFrame[\"CaseRate\"]\n",
    "popDens = DataFrame[\"PopDens\"]\n",
    "n = len(DataFrame)\n",
    "\n",
    "# Perform a linear regression on population density versus case rates\n",
    "slope, int, r, p, std_err = st.linregress(popDens, countyCaseRate)\n",
    "\n",
    "# Create equation of line to calculate predicted case rates\n",
    "fit = slope * popDens + int\n",
    "\n",
    "# Create equation in string formats to print on scatter plot\n",
    "equation = \"y = \" + str(round(slope, 2)) + \"x + \" + str(round(int, 2))\n",
    "\n",
    "# Define scatter plot size\n",
    "plt.figure(figsize = (21, 14))\n",
    "\n",
    "# Plot x and y values on scatter plot\n",
    "plt.scatter(popDens, countyCaseRate, marker = \".\", color = \"red\")\n",
    "\n",
    "# Plot linear regression line on scatter plot\n",
    "plt.plot(popDens, fit, \"--\", color = \"black\")\n",
    "\n",
    "# Define linear regression line and print on scatter plot\n",
    "plt.annotate(equation, (5150, 500), fontsize = 14, color = \"red\")\n",
    "\n",
    "# Define plot title, x and y labels, and gridlines\n",
    "plt.title(f\"COVID-19 Cases vs. Population Density (by County)\\nas of July 14, 2020\", fontsize = 18)\n",
    "plt.xlabel(\"Population Density\", fontsize = 14)\n",
    "plt.ylabel(\"Cases\", fontsize = 14)\n",
    "plt.xlim(0, 6000)\n",
    "plt.ylim(0, 7000)\n",
    "plt.grid(axis = \"x\", linewidth = 0.5)\n",
    "plt.grid(axis = \"y\", linewidth = 0.5)\n",
    "plt.savefig(\"Images/scatterPlot1.png\")\n",
    "\n",
    "print(f\"The r-value is: {r}\")\n",
    "\n",
    "plt.show()"
   ]
  },
  {
   "cell_type": "markdown",
   "metadata": {
    "slideshow": {
     "slide_type": "-"
    }
   },
   "source": [
    "### Question:\n",
    "\n",
    "### _Is there a correlation between COVID-19 cases per 100,000 people and population density?_"
   ]
  },
  {
   "cell_type": "markdown",
   "metadata": {
    "slideshow": {
     "slide_type": "-"
    }
   },
   "source": [
    "### Answer:\n",
    "\n",
    "### _Yes. &nbsp;COVID-19 cases per 100,000 people increases in counties with higher population densities._"
   ]
  },
  {
   "cell_type": "markdown",
   "metadata": {
    "slideshow": {
     "slide_type": "-"
    }
   },
   "source": [
    "# Visualizations\n",
    "\n",
    "### U.S. COVID-19 Death Rate per 100,000 People as of July 14, 2020"
   ]
  },
  {
   "cell_type": "code",
   "execution_count": null,
   "metadata": {
    "slideshow": {
     "slide_type": "-"
    }
   },
   "outputs": [],
   "source": [
    "# Sort on DeathRate to find lowest death rates per 100,000 people\n",
    "DataFrame = DataFrame.sort_values(\"DeathRate\", ascending = True)"
   ]
  },
  {
   "cell_type": "code",
   "execution_count": null,
   "metadata": {
    "slideshow": {
     "slide_type": "-"
    }
   },
   "outputs": [],
   "source": [
    "# Display top 5 counties with lowest death rates per 100,000 people\n",
    "DataFrame.head()"
   ]
  },
  {
   "cell_type": "code",
   "execution_count": null,
   "metadata": {
    "slideshow": {
     "slide_type": "-"
    }
   },
   "outputs": [],
   "source": [
    "# Display top 5 counties with highest death rates per 100,000 people\n",
    "DataFrame.tail()"
   ]
  },
  {
   "cell_type": "code",
   "execution_count": null,
   "metadata": {
    "slideshow": {
     "slide_type": "-"
    }
   },
   "outputs": [],
   "source": [
    "# Sort on FIPS to restore order\n",
    "DataFrame = DataFrame.sort_values(\"FIPS\", ascending = True)\n",
    "DataFrame"
   ]
  },
  {
   "cell_type": "code",
   "execution_count": null,
   "metadata": {
    "slideshow": {
     "slide_type": "-"
    }
   },
   "outputs": [],
   "source": [
    "# Create heatmap for DeathRate\n",
    "\n",
    "# Store latitude and longitude in locations\n",
    "locations = DataFrame[[\"Lat\", \"Lng\"]]\n",
    "\n",
    "# Convert death rates to float\n",
    "deathRate = DataFrame[\"DeathRate\"].astype(float)\n",
    "\n",
    "# Plot Heatmap (U.S. geographic center is 39.8333, -98.5855)\n",
    "fig = gmaps.figure(zoom_level = 4.1, center = (37.8, -98.6), map_type = \"ROADMAP\")\n",
    "\n",
    "# Set max intensity to mean death rate found in the dataset\n",
    "max_intensity = DataFrame[\"DeathRate\"].max()\n",
    "\n",
    "# Create heat layer\n",
    "heat_layer = gmaps.heatmap_layer(locations, weights = deathRate, \n",
    "                                 dissipating = False, max_intensity = max_intensity,\n",
    "                                 point_radius = 0.8, gradient = [\"white\", \"lime\", \"green\", \"yellow\", \"red\", \"purple\"])\n",
    "\n",
    "# Add layer\n",
    "fig.add_layer(heat_layer)\n",
    "\n",
    "# Display figure\n",
    "fig"
   ]
  },
  {
   "cell_type": "markdown",
   "metadata": {
    "slideshow": {
     "slide_type": "-"
    }
   },
   "source": [
    "### Death Rate per 100,000 People vs. Population Density (by County) as of July 14, 2020"
   ]
  },
  {
   "cell_type": "code",
   "execution_count": null,
   "metadata": {
    "slideshow": {
     "slide_type": "-"
    }
   },
   "outputs": [],
   "source": [
    "# Do areas of higher population density have higher death rates?\n",
    "\n",
    "# Retrieve death rate and population density data\n",
    "countyDeathRate = DataFrame[\"DeathRate\"]\n",
    "popDens = DataFrame[\"PopDens\"]\n",
    "n = len(DataFrame)\n",
    "\n",
    "# Perform a linear regression on population density versus death rates\n",
    "slope, int, r, p, std_err = st.linregress(popDens, countyDeathRate)\n",
    "\n",
    "# Create equation of line to calculate predicted death rates\n",
    "fit = slope * popDens + int\n",
    "\n",
    "# Create equation in string formats to print on scatter plot\n",
    "equation = \"y = \" + str(round(slope, 2)) + \"x + \" + str(round(int, 2))\n",
    "\n",
    "# Define scatter plot size\n",
    "plt.figure(figsize = (21, 14))\n",
    "\n",
    "# Plot x and y values on scatter plot\n",
    "plt.scatter(popDens, countyDeathRate, marker = \".\", color = \"purple\")\n",
    "\n",
    "# Plot linear regression line on scatter plot\n",
    "plt.plot(popDens, fit, \"--\", color = \"black\")\n",
    "\n",
    "# Define linear regression line and print on scatter plot\n",
    "plt.annotate(equation, (5150, 25), fontsize = 14, color = \"purple\")\n",
    "\n",
    "# Define plot title, x and y labels, and gridlines\n",
    "plt.title(f\"COVID-19 Deaths vs. Population Density (by County)\\nas of July 14, 2020\", fontsize = 18)\n",
    "plt.xlabel(\"Population Density\", fontsize = 14)\n",
    "plt.ylabel(\"Deaths\", fontsize = 14)\n",
    "plt.xlim(0, 6000)\n",
    "plt.ylim(0, 350)\n",
    "plt.grid(axis = \"x\", linewidth = 0.5)\n",
    "plt.grid(axis = \"y\", linewidth = 0.5)\n",
    "plt.savefig(\"Images/scatterPlot2.png\")\n",
    "\n",
    "print(f\"The r-value is: {r}\")\n",
    "\n",
    "plt.show()"
   ]
  },
  {
   "cell_type": "markdown",
   "metadata": {
    "slideshow": {
     "slide_type": "-"
    }
   },
   "source": [
    "### Question:\n",
    "\n",
    "### _Is there a correlation between COVID-19 deaths per 100,000 people and population density?_"
   ]
  },
  {
   "cell_type": "markdown",
   "metadata": {
    "slideshow": {
     "slide_type": "-"
    }
   },
   "source": [
    "### Answer:\n",
    "\n",
    "### _Yes. &nbsp;COVID-19 deaths per 100,000 people increase in counties with higher population densities._"
   ]
  },
  {
   "cell_type": "markdown",
   "metadata": {
    "slideshow": {
     "slide_type": "-"
    }
   },
   "source": [
    "# Visualizations\n",
    "\n",
    "### U.S. Mask-Wearing Scores as of July 14, 2020"
   ]
  },
  {
   "cell_type": "markdown",
   "metadata": {
    "slideshow": {
     "slide_type": "-"
    }
   },
   "source": [
    "### The New York Times survey asked, “How often do you wear a mask in public when you expect to be within six feet of another person?”"
   ]
  },
  {
   "cell_type": "code",
   "execution_count": null,
   "metadata": {
    "slideshow": {
     "slide_type": "-"
    }
   },
   "outputs": [],
   "source": [
    "# Mask score sorted lowest to highest\n",
    "stateAVG = stateAVG.sort_values(\"Mask Score\", ascending = True)\n",
    "stateAVG"
   ]
  },
  {
   "cell_type": "code",
   "execution_count": null,
   "metadata": {
    "slideshow": {
     "slide_type": "-"
    }
   },
   "outputs": [],
   "source": [
    "# Convert values for consistency\n",
    "stateAVG[\"Mask Score\"] = stateAVG[\"Mask Score\"] / 100\n",
    "stateAVG"
   ]
  },
  {
   "cell_type": "code",
   "execution_count": null,
   "metadata": {
    "slideshow": {
     "slide_type": "-"
    }
   },
   "outputs": [],
   "source": [
    "# Sort on mask score to find highest mask-wearing states\n",
    "stateAVG = stateAVG.sort_values(\"Mask Score\", ascending = False)\n",
    "\n",
    "# Reset index in place\n",
    "stateAVG.reset_index(inplace = True, drop = True)"
   ]
  },
  {
   "cell_type": "code",
   "execution_count": null,
   "metadata": {
    "slideshow": {
     "slide_type": "-"
    }
   },
   "outputs": [],
   "source": [
    "# Display top 5 states with highest mask scores\n",
    "stateAVG.head()"
   ]
  },
  {
   "cell_type": "code",
   "execution_count": null,
   "metadata": {
    "slideshow": {
     "slide_type": "-"
    }
   },
   "outputs": [],
   "source": [
    "# Display top 5 states with lowest mask scores\n",
    "stateAVG.tail()"
   ]
  },
  {
   "cell_type": "code",
   "execution_count": null,
   "metadata": {
    "slideshow": {
     "slide_type": "-"
    }
   },
   "outputs": [],
   "source": [
    "# Mask score sorted lowest to highest\n",
    "stateAVG = stateAVG.sort_values(\"Mask Score\", ascending = True)\n",
    "stateAVG"
   ]
  },
  {
   "cell_type": "code",
   "execution_count": null,
   "metadata": {
    "slideshow": {
     "slide_type": "-"
    }
   },
   "outputs": [],
   "source": [
    "# Generate bar plot showing state mask scores\n",
    "\n",
    "# Bar plot x and y values\n",
    "xValues = stateAVG[\"State\"]\n",
    "yValues = stateAVG[\"Mask Score\"]\n",
    "\n",
    "# Define bar plot size\n",
    "fig, ax = plt.subplots(figsize = (21, 14))\n",
    "\n",
    "# Pass values into bar plot, and define color\n",
    "ax.barh(xValues, yValues, color = \"lightskyblue\")\n",
    "\n",
    "# Define bar plot title, ticks, and x label\n",
    "ax.set_title(\"State Mask Scores\\nas of July 14, 2020\", fontsize = 18)\n",
    "plt.yticks(fontsize = 12)\n",
    "plt.xticks(fontsize = 12)\n",
    "plt.xlabel(\"Mask Score\", fontsize = 14)\n",
    "plt.savefig(\"Images/barPlot1.png\")\n",
    "\n",
    "plt.show()"
   ]
  },
  {
   "cell_type": "markdown",
   "metadata": {
    "slideshow": {
     "slide_type": "-"
    }
   },
   "source": [
    "# Visualizations\n",
    "\n",
    "### U.S. Mask-Wearing Scores as of July 14, 2020 (by County)"
   ]
  },
  {
   "cell_type": "code",
   "execution_count": null,
   "metadata": {
    "slideshow": {
     "slide_type": "-"
    }
   },
   "outputs": [],
   "source": [
    "# Sort on CountyScore to find highest mask-wearing scores by county\n",
    "DataFrame = DataFrame.sort_values(\"CountyScore\", ascending = False)"
   ]
  },
  {
   "cell_type": "code",
   "execution_count": null,
   "metadata": {
    "slideshow": {
     "slide_type": "-"
    }
   },
   "outputs": [],
   "source": [
    "# Display top 5 counties with highest mask scores\n",
    "DataFrame.head()"
   ]
  },
  {
   "cell_type": "code",
   "execution_count": null,
   "metadata": {
    "slideshow": {
     "slide_type": "-"
    }
   },
   "outputs": [],
   "source": [
    "# Display top 5 counties with lowest mask scores\n",
    "DataFrame.tail()"
   ]
  },
  {
   "cell_type": "code",
   "execution_count": null,
   "metadata": {
    "slideshow": {
     "slide_type": "-"
    }
   },
   "outputs": [],
   "source": [
    "# Sort on FIPS to restore order\n",
    "DataFrame = DataFrame.sort_values(\"FIPS\", ascending = True)\n",
    "DataFrame"
   ]
  },
  {
   "cell_type": "code",
   "execution_count": null,
   "metadata": {
    "slideshow": {
     "slide_type": "-"
    }
   },
   "outputs": [],
   "source": [
    "# Create heatmap for Mask Score\n",
    "\n",
    "# Store latitude and longitude in locations\n",
    "locations = DataFrame[[\"Lat\", \"Lng\"]]\n",
    "\n",
    "# Convert mask scores to float\n",
    "mask_score = DataFrame[\"CountyScore\"].astype(float)\n",
    "\n",
    "# Plot Heatmap (U.S. geographic center is 39.8333, -98.5855)\n",
    "fig = gmaps.figure(zoom_level = 4.1, center = (37.8, -98.6), map_type = \"ROADMAP\")\n",
    "\n",
    "# Set max intensity to max mask score found in the dataset\n",
    "max_intensity = DataFrame[\"CountyScore\"].max() / 10\n",
    "\n",
    "# Create heat layer\n",
    "heat_layer = gmaps.heatmap_layer(locations, weights = mask_score, max_intensity = max_intensity, dissipating = False,\n",
    "                                 point_radius = 0.8, gradient = [\"white\", \"aqua\", \"blue\", \"purple\"])\n",
    "\n",
    "# Add layer\n",
    "fig.add_layer(heat_layer)\n",
    "\n",
    "# Display figure\n",
    "fig"
   ]
  },
  {
   "cell_type": "markdown",
   "metadata": {
    "slideshow": {
     "slide_type": "-"
    }
   },
   "source": [
    "### U.S. Mask Score vs. Population Density (by County) as of July 14, 2020"
   ]
  },
  {
   "cell_type": "code",
   "execution_count": null,
   "metadata": {
    "slideshow": {
     "slide_type": "-"
    }
   },
   "outputs": [],
   "source": [
    "# Do areas of higher population density have higher mask scores?\n",
    "\n",
    "# Retrieve mask score and population density data\n",
    "mskScore = DataFrame[\"CountyScore\"]\n",
    "popDens = DataFrame[\"PopDens\"]\n",
    "n = len(DataFrame)\n",
    "\n",
    "# Perform a linear regression on population density versus mask scores\n",
    "slope, int, r, p, std_err = st.linregress(popDens, mskScore)\n",
    "\n",
    "# Create equation of line to calculate predicted mask scores\n",
    "fit = slope * popDens + int\n",
    "\n",
    "# Create equation in string formats to print on scatter plot\n",
    "equation = \"y = \" + str(round(slope, 2)) + \"x + \" + str(round(int, 2))\n",
    "\n",
    "# Define scatter plot size\n",
    "plt.figure(figsize = (21, 14))\n",
    "\n",
    "# Plot x and y values on scatter plot\n",
    "plt.scatter(popDens, mskScore, marker = \".\", color = \"lightskyblue\")\n",
    "\n",
    "# Plot linear regression line on scatter plot\n",
    "plt.plot(popDens, fit, \"--\", color = \"black\")\n",
    "\n",
    "# Define linear regression line and print on scatter plot\n",
    "plt.annotate(equation, (5150, 9.5), fontsize = 14, color = \"black\")\n",
    "\n",
    "# Define plot title, x and y labels, and gridlines\n",
    "plt.title(f\"Mask Scores vs. Population Density (by County)\\nas of July 14, 2020\", fontsize = 18)\n",
    "plt.xlabel(\"Population Density\", fontsize = 14)\n",
    "plt.ylabel(\"Mask Score\", fontsize = 14)\n",
    "plt.xlim(0, 6000)\n",
    "plt.ylim(2.5, 10)\n",
    "plt.grid(axis = \"x\", linewidth = 0.5)\n",
    "plt.grid(axis = \"y\", linewidth = 0.5)\n",
    "plt.savefig(\"Images/scatterPlot3.png\")\n",
    "\n",
    "print(f\"The r-value is: {r}\")\n",
    "\n",
    "plt.show()"
   ]
  },
  {
   "cell_type": "markdown",
   "metadata": {
    "slideshow": {
     "slide_type": "-"
    }
   },
   "source": [
    "### Question:\n",
    "\n",
    "### _Is there a correlation between mask scores and population density?_"
   ]
  },
  {
   "cell_type": "markdown",
   "metadata": {
    "slideshow": {
     "slide_type": "-"
    }
   },
   "source": [
    "### Answer:\n",
    "\n",
    "### _Yes. &nbsp;People living in counties with higher population densities tend to wear face coverings more often than those in counties with lower population densities._"
   ]
  },
  {
   "cell_type": "markdown",
   "metadata": {
    "slideshow": {
     "slide_type": "-"
    }
   },
   "source": [
    "### Case Rate per 100,000 People vs. Mask Score (by County) as of July 14, 2020"
   ]
  },
  {
   "cell_type": "code",
   "execution_count": null,
   "metadata": {
    "slideshow": {
     "slide_type": "-"
    }
   },
   "outputs": [],
   "source": [
    "# Do counties with higher mask scores have higher case rates per 100,000 people?\n",
    "\n",
    "# Retrieve mask score and case rate data\n",
    "countyCaseRate = DataFrame[\"CaseRate\"]\n",
    "countyMask = DataFrame[\"CountyScore\"]\n",
    "n = len(DataFrame)\n",
    "\n",
    "# Perform a linear regression on population density versus mask scores\n",
    "slope, int, r, p, std_err = st.linregress(countyMask, countyCaseRate)\n",
    "\n",
    "# Create equation of line to calculate predicted mask scores\n",
    "fit = slope * countyMask + int\n",
    "\n",
    "# Create equation in string formats to print on scatter plot\n",
    "equation = \"y = \" + str(round(slope, 2)) + \"x + \" + str(round(int, 2))\n",
    "\n",
    "# Define scatter plot size\n",
    "plt.figure(figsize = (21, 14))\n",
    "\n",
    "# Plot x and y values on scatter plot\n",
    "plt.scatter(countyMask, countyCaseRate, marker = \".\", color = \"red\")\n",
    "\n",
    "# Plot linear regression line on scatter plot\n",
    "plt.plot(countyMask, fit, \"--\", color = \"black\")\n",
    "\n",
    "# Define linear regression line and print on scatter plot\n",
    "plt.annotate(equation, (3.25, 750), fontsize = 14, color = \"red\")\n",
    "\n",
    "# Define plot title, x and y labels, and gridlines\n",
    "plt.title(f\"COVID-19 Cases vs. Mask Wearing Score (by County)\\nas of July 14, 2020\", fontsize = 18)\n",
    "plt.xlabel(\"Mask Score\", fontsize = 14)\n",
    "plt.ylabel(\"Cases\", fontsize = 14)\n",
    "plt.xlim(2.5, 10)\n",
    "plt.ylim(0, 3750)\n",
    "plt.grid(axis = \"x\", linewidth = 0.5)\n",
    "plt.grid(axis = \"y\", linewidth = 0.5)\n",
    "plt.savefig(\"Images/scatterPlot4.png\")\n",
    "\n",
    "print(f\"The r-value is: {r}\")\n",
    "\n",
    "plt.show()"
   ]
  },
  {
   "cell_type": "markdown",
   "metadata": {
    "slideshow": {
     "slide_type": "-"
    }
   },
   "source": [
    "### Question:\n",
    "\n",
    "### _Do counties with higher mask scores have lower COVID-19 case rates per 100,000 people?_"
   ]
  },
  {
   "cell_type": "markdown",
   "metadata": {
    "slideshow": {
     "slide_type": "-"
    }
   },
   "source": [
    "### Answer:\n",
    "\n",
    "### _No. &nbsp;Counties with higher mask scores have higher COVID-19 case rates per 100,000 people._"
   ]
  },
  {
   "cell_type": "markdown",
   "metadata": {
    "slideshow": {
     "slide_type": "-"
    }
   },
   "source": [
    "### Death Rate per 100,000 People vs. Mask Score (by County) as of July 14, 2020"
   ]
  },
  {
   "cell_type": "code",
   "execution_count": null,
   "metadata": {
    "slideshow": {
     "slide_type": "-"
    }
   },
   "outputs": [],
   "source": [
    "# Do counties with higher mask scores have higher death rates per 100,000 people?\n",
    "\n",
    "# Retrieve mask score and death rate data\n",
    "countyDeathRate = DataFrame[\"DeathRate\"]\n",
    "countyMask = DataFrame[\"CountyScore\"]\n",
    "n = len(DataFrame)\n",
    "\n",
    "# Perform a linear regression on death rates versus mask scores\n",
    "slope, int, r, p, std_err = st.linregress(countyMask, countyDeathRate)\n",
    "\n",
    "# Create equation of line to calculate predicted death rates\n",
    "fit = slope * countyMask + int\n",
    "\n",
    "# Create equation in string formats to print on scatter plot\n",
    "equation = \"y = \" + str(round(slope, 2)) + \"x + \" + str(round(int, 2))\n",
    "\n",
    "# Define scatter plot size\n",
    "plt.figure(figsize = (21, 14))\n",
    "\n",
    "# Plot x and y values on scatter plot\n",
    "plt.scatter(countyMask, countyDeathRate, marker = \".\", color = \"purple\")\n",
    "\n",
    "# Plot linear regression line on scatter plot\n",
    "plt.plot(countyMask, fit, \"--\", color = \"black\")\n",
    "\n",
    "# Define linear regression line and print on scatter plot\n",
    "plt.annotate(equation, (3.25, 75), fontsize = 14, color = \"purple\")\n",
    "\n",
    "# Define plot title, x and y labels, and gridlines\n",
    "plt.title(f\"COVID-19 Deaths vs. Mask Wearing Score (by County)\\nas of July 14, 2020\", fontsize = 18)\n",
    "plt.xlabel(\"Mask Score\", fontsize = 14)\n",
    "plt.ylabel(\"Deaths\", fontsize = 14)\n",
    "plt.xlim(2.5, 10)\n",
    "plt.ylim(0, 375)\n",
    "plt.grid(axis = \"x\", linewidth = 0.5)\n",
    "plt.grid(axis = \"y\", linewidth = 0.5)\n",
    "plt.savefig(\"Images/scatterPlot5.png\")\n",
    "\n",
    "print(f\"The r-value is: {r}\")\n",
    "\n",
    "plt.show()"
   ]
  },
  {
   "cell_type": "markdown",
   "metadata": {
    "slideshow": {
     "slide_type": "-"
    }
   },
   "source": [
    "### Question:\n",
    "\n",
    "### _Do counties with higher mask scores have lower COVID-19 death rates per 100,000 people?_"
   ]
  },
  {
   "cell_type": "markdown",
   "metadata": {
    "slideshow": {
     "slide_type": "-"
    }
   },
   "source": [
    "### Answer:\n",
    "\n",
    "### _No. &nbsp;Counties with higher mask scores have higher COVID-19 death rates per 100,000 people._"
   ]
  },
  {
   "cell_type": "markdown",
   "metadata": {
    "slideshow": {
     "slide_type": "-"
    }
   },
   "source": [
    "# Summary"
   ]
  },
  {
   "cell_type": "code",
   "execution_count": null,
   "metadata": {
    "slideshow": {
     "slide_type": "-"
    }
   },
   "outputs": [],
   "source": [
    "# Convert values to strings for cleaner formatted display\n",
    "DataFrame[\"SQMI\"] = DataFrame[\"SQMI\"].map(\"{:,.2f}\".format)\n",
    "DataFrame[\"PopEst\"] = DataFrame[\"PopEst\"].map(\"{:,}\".format)\n",
    "DataFrame[\"PopDens\"] = DataFrame[\"PopDens\"].map(\"{:,.2f}\".format)\n",
    "DataFrame[\"Cases\"] = DataFrame[\"Cases\"].map(\"{:,}\".format)\n",
    "DataFrame[\"CaseRate\"] = DataFrame[\"CaseRate\"].map(\"{:,.2f}\".format)\n",
    "DataFrame[\"Deaths\"] = DataFrame[\"Deaths\"].map(\"{:,}\".format)\n",
    "DataFrame[\"DeathRate\"] = DataFrame[\"DeathRate\"].map(\"{:,.2f}\".format)\n",
    "DataFrame[\"Lat\"] = DataFrame[\"Lat\"].map(\"{:,.4f}\".format)\n",
    "DataFrame[\"Lng\"] = DataFrame[\"Lng\"].map(\"{:,.4f}\".format)\n",
    "DataFrame[\"CountyScore\"] = DataFrame[\"CountyScore\"].map(\"{:,.2f}\".format)\n",
    "DataFrame[\"StateScore\"] = DataFrame[\"StateScore\"].map(\"{:,.2f}\".format)\n",
    "DataFrame"
   ]
  }
 ],
 "metadata": {
  "kernelspec": {
   "display_name": "Python 3",
   "language": "python",
   "name": "python3"
  },
  "language_info": {
   "codemirror_mode": {
    "name": "ipython",
    "version": 3
   },
   "file_extension": ".py",
   "mimetype": "text/x-python",
   "name": "python",
   "nbconvert_exporter": "python",
   "pygments_lexer": "ipython3",
   "version": "3.6.10"
  }
 },
 "nbformat": 4,
 "nbformat_minor": 4
}
